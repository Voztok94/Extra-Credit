{
  "nbformat": 4,
  "nbformat_minor": 0,
  "metadata": {
    "colab": {
      "provenance": [],
      "authorship_tag": "ABX9TyOZfUT/fy64bIUD4QSqfZ5u",
      "include_colab_link": true
    },
    "kernelspec": {
      "name": "python3",
      "display_name": "Python 3"
    },
    "language_info": {
      "name": "python"
    }
  },
  "cells": [
    {
      "cell_type": "markdown",
      "metadata": {
        "id": "view-in-github",
        "colab_type": "text"
      },
      "source": [
        "<a href=\"https://colab.research.google.com/github/Voztok94/Extra-Credit/blob/main/FaceRecognition.ipynb\" target=\"_parent\"><img src=\"https://colab.research.google.com/assets/colab-badge.svg\" alt=\"Open In Colab\"/></a>"
      ]
    },
    {
      "cell_type": "code",
      "source": [
        "# Install necessary libraries\n",
        "!pip install face_recognition opencv-python-headless\n",
        "\n",
        "import face_recognition\n",
        "import os\n",
        "import cv2\n",
        "import numpy as np\n",
        "from google.colab import drive\n",
        "from google.colab.patches import cv2_imshow  # For displaying images in Colab"
      ],
      "metadata": {
        "colab": {
          "base_uri": "https://localhost:8080/",
          "height": 703
        },
        "id": "6Ijldu06kOhp",
        "outputId": "15a3bddc-ceeb-45fe-b2f4-5a7993760d52"
      },
      "execution_count": 1,
      "outputs": [
        {
          "output_type": "stream",
          "name": "stdout",
          "text": [
            "Collecting face_recognition\n",
            "  Downloading face_recognition-1.3.0-py2.py3-none-any.whl.metadata (21 kB)\n",
            "Requirement already satisfied: opencv-python-headless in /usr/local/lib/python3.10/dist-packages (4.10.0.84)\n",
            "Collecting face-recognition-models>=0.3.0 (from face_recognition)\n",
            "  Downloading face_recognition_models-0.3.0.tar.gz (100.1 MB)\n",
            "\u001b[2K     \u001b[90m━━━━━━━━━━━━━━━━━━━━━━━━━━━━━━━━━━━━━━━━\u001b[0m \u001b[32m100.1/100.1 MB\u001b[0m \u001b[31m9.6 MB/s\u001b[0m eta \u001b[36m0:00:00\u001b[0m\n",
            "\u001b[?25h  Preparing metadata (setup.py) ... \u001b[?25l\u001b[?25hdone\n",
            "Requirement already satisfied: Click>=6.0 in /usr/local/lib/python3.10/dist-packages (from face_recognition) (8.1.7)\n",
            "Requirement already satisfied: dlib>=19.7 in /usr/local/lib/python3.10/dist-packages (from face_recognition) (19.24.2)\n",
            "Requirement already satisfied: numpy in /usr/local/lib/python3.10/dist-packages (from face_recognition) (1.26.4)\n",
            "Requirement already satisfied: Pillow in /usr/local/lib/python3.10/dist-packages (from face_recognition) (10.4.0)\n",
            "Downloading face_recognition-1.3.0-py2.py3-none-any.whl (15 kB)\n",
            "Building wheels for collected packages: face-recognition-models\n",
            "  Building wheel for face-recognition-models (setup.py) ... \u001b[?25l\u001b[?25hdone\n",
            "  Created wheel for face-recognition-models: filename=face_recognition_models-0.3.0-py2.py3-none-any.whl size=100566164 sha256=b5ba21b62a652660ea2631e79ca1562f9209d0beac7a5fcd48d3e8e5a956b0b7\n",
            "  Stored in directory: /root/.cache/pip/wheels/7a/eb/cf/e9eced74122b679557f597bb7c8e4c739cfcac526db1fd523d\n",
            "Successfully built face-recognition-models\n",
            "Installing collected packages: face-recognition-models, face_recognition\n",
            "Successfully installed face-recognition-models-0.3.0 face_recognition-1.3.0\n"
          ]
        },
        {
          "output_type": "error",
          "ename": "RuntimeError",
          "evalue": "Error while calling cudaGetDevice(&the_device_id) in file /tmp/pip-install-crsfhhfx/dlib_6986b609c83c41fcbe7648b874069817/dlib/cuda/gpu_data.cpp:204. code: 35, reason: CUDA driver version is insufficient for CUDA runtime version",
          "traceback": [
            "\u001b[0;31m---------------------------------------------------------------------------\u001b[0m",
            "\u001b[0;31mRuntimeError\u001b[0m                              Traceback (most recent call last)",
            "\u001b[0;32m<ipython-input-1-a9f86d1fe647>\u001b[0m in \u001b[0;36m<cell line: 4>\u001b[0;34m()\u001b[0m\n\u001b[1;32m      2\u001b[0m \u001b[0mget_ipython\u001b[0m\u001b[0;34m(\u001b[0m\u001b[0;34m)\u001b[0m\u001b[0;34m.\u001b[0m\u001b[0msystem\u001b[0m\u001b[0;34m(\u001b[0m\u001b[0;34m'pip install face_recognition opencv-python-headless'\u001b[0m\u001b[0;34m)\u001b[0m\u001b[0;34m\u001b[0m\u001b[0;34m\u001b[0m\u001b[0m\n\u001b[1;32m      3\u001b[0m \u001b[0;34m\u001b[0m\u001b[0m\n\u001b[0;32m----> 4\u001b[0;31m \u001b[0;32mimport\u001b[0m \u001b[0mface_recognition\u001b[0m\u001b[0;34m\u001b[0m\u001b[0;34m\u001b[0m\u001b[0m\n\u001b[0m\u001b[1;32m      5\u001b[0m \u001b[0;32mimport\u001b[0m \u001b[0mos\u001b[0m\u001b[0;34m\u001b[0m\u001b[0;34m\u001b[0m\u001b[0m\n\u001b[1;32m      6\u001b[0m \u001b[0;32mimport\u001b[0m \u001b[0mcv2\u001b[0m\u001b[0;34m\u001b[0m\u001b[0;34m\u001b[0m\u001b[0m\n",
            "\u001b[0;32m/usr/local/lib/python3.10/dist-packages/face_recognition/__init__.py\u001b[0m in \u001b[0;36m<module>\u001b[0;34m\u001b[0m\n\u001b[1;32m      5\u001b[0m \u001b[0m__version__\u001b[0m \u001b[0;34m=\u001b[0m \u001b[0;34m'1.2.3'\u001b[0m\u001b[0;34m\u001b[0m\u001b[0;34m\u001b[0m\u001b[0m\n\u001b[1;32m      6\u001b[0m \u001b[0;34m\u001b[0m\u001b[0m\n\u001b[0;32m----> 7\u001b[0;31m \u001b[0;32mfrom\u001b[0m \u001b[0;34m.\u001b[0m\u001b[0mapi\u001b[0m \u001b[0;32mimport\u001b[0m \u001b[0mload_image_file\u001b[0m\u001b[0;34m,\u001b[0m \u001b[0mface_locations\u001b[0m\u001b[0;34m,\u001b[0m \u001b[0mbatch_face_locations\u001b[0m\u001b[0;34m,\u001b[0m \u001b[0mface_landmarks\u001b[0m\u001b[0;34m,\u001b[0m \u001b[0mface_encodings\u001b[0m\u001b[0;34m,\u001b[0m \u001b[0mcompare_faces\u001b[0m\u001b[0;34m,\u001b[0m \u001b[0mface_distance\u001b[0m\u001b[0;34m\u001b[0m\u001b[0;34m\u001b[0m\u001b[0m\n\u001b[0m",
            "\u001b[0;32m/usr/local/lib/python3.10/dist-packages/face_recognition/api.py\u001b[0m in \u001b[0;36m<module>\u001b[0;34m\u001b[0m\n\u001b[1;32m     24\u001b[0m \u001b[0;34m\u001b[0m\u001b[0m\n\u001b[1;32m     25\u001b[0m \u001b[0mcnn_face_detection_model\u001b[0m \u001b[0;34m=\u001b[0m \u001b[0mface_recognition_models\u001b[0m\u001b[0;34m.\u001b[0m\u001b[0mcnn_face_detector_model_location\u001b[0m\u001b[0;34m(\u001b[0m\u001b[0;34m)\u001b[0m\u001b[0;34m\u001b[0m\u001b[0;34m\u001b[0m\u001b[0m\n\u001b[0;32m---> 26\u001b[0;31m \u001b[0mcnn_face_detector\u001b[0m \u001b[0;34m=\u001b[0m \u001b[0mdlib\u001b[0m\u001b[0;34m.\u001b[0m\u001b[0mcnn_face_detection_model_v1\u001b[0m\u001b[0;34m(\u001b[0m\u001b[0mcnn_face_detection_model\u001b[0m\u001b[0;34m)\u001b[0m\u001b[0;34m\u001b[0m\u001b[0;34m\u001b[0m\u001b[0m\n\u001b[0m\u001b[1;32m     27\u001b[0m \u001b[0;34m\u001b[0m\u001b[0m\n\u001b[1;32m     28\u001b[0m \u001b[0mface_recognition_model\u001b[0m \u001b[0;34m=\u001b[0m \u001b[0mface_recognition_models\u001b[0m\u001b[0;34m.\u001b[0m\u001b[0mface_recognition_model_location\u001b[0m\u001b[0;34m(\u001b[0m\u001b[0;34m)\u001b[0m\u001b[0;34m\u001b[0m\u001b[0;34m\u001b[0m\u001b[0m\n",
            "\u001b[0;31mRuntimeError\u001b[0m: Error while calling cudaGetDevice(&the_device_id) in file /tmp/pip-install-crsfhhfx/dlib_6986b609c83c41fcbe7648b874069817/dlib/cuda/gpu_data.cpp:204. code: 35, reason: CUDA driver version is insufficient for CUDA runtime version"
          ]
        }
      ]
    },
    {
      "cell_type": "code",
      "execution_count": null,
      "metadata": {
        "id": "61fS-NL3kN30"
      },
      "outputs": [],
      "source": [
        "# Mount Google Drive\n",
        "from google.colab import drive\n",
        "drive.mount('/content/Drive')"
      ]
    },
    {
      "cell_type": "code",
      "source": [
        "def compare_faces(known_faces_folder, unknown_faces_folder):\n",
        "    \"\"\"Compares faces in two folders and returns a dictionary of matches.\"\"\"\n",
        "\n",
        "    # Load known face encodings\n",
        "    known_encodings = {}\n",
        "    for filename in os.listdir(known_faces_folder):\n",
        "        known_image_path = os.path.join(known_faces_folder, filename)\n",
        "        image = face_recognition.load_image_file(known_image_path)\n",
        "        encoding = face_recognition.face_encodings(image)\n",
        "        if encoding:\n",
        "            known_encodings[filename] = encoding[0]\n",
        "\n",
        "    # Find matches between known and unknown faces\n",
        "    matches = {}\n",
        "    unmatched_unknowns = []\n",
        "    matched_knowns = set()\n",
        "\n",
        "    for filename in os.listdir(unknown_faces_folder):\n",
        "        unknown_image_path = os.path.join(unknown_faces_folder, filename)\n",
        "        image = face_recognition.load_image_file(unknown_image_path)\n",
        "        unknown_encoding = face_recognition.face_encodings(image)\n",
        "        if not unknown_encoding:\n",
        "            continue  # Skip if no faces found in the image\n",
        "\n",
        "        match_found = False\n",
        "        for known_name, known_encoding in known_encodings.items():\n",
        "            result = face_recognition.compare_faces([known_encoding], unknown_encoding[0], tolerance=0.65)\n",
        "            if result[0]:\n",
        "                matches[filename] = known_name\n",
        "                matched_knowns.add(known_name)\n",
        "                match_found = True\n",
        "                break\n",
        "\n",
        "        if not match_found:\n",
        "            unmatched_unknowns.append(filename)\n",
        "\n",
        "    # Identify missing known people\n",
        "    missing_knowns = set(known_encodings.keys()) - matched_knowns\n",
        "\n",
        "    return matches, unmatched_unknowns, missing_knowns\n",
        "\n",
        "def stack_images_vertically_with_boxes(known_faces_folder, unknown_faces_folder, matches):\n",
        "    \"\"\"Stacks all matched images in a single window vertically with boxes around unknown faces.\"\"\"\n",
        "\n",
        "    stacked_images = []\n",
        "\n",
        "    for unknown_file, known_name in matches.items():\n",
        "        unknown_image_path = os.path.join(unknown_faces_folder, unknown_file)\n",
        "        known_image_path = os.path.join(known_faces_folder, known_name)\n",
        "\n",
        "        # Load images using OpenCV\n",
        "        unknown_img = cv2.imread(unknown_image_path)\n",
        "        known_img = cv2.imread(known_image_path)\n",
        "\n",
        "        # Detect face locations in the unknown image\n",
        "        face_locations = face_recognition.face_locations(unknown_img)\n",
        "\n",
        "        # Iterate over face locations and draw rectangle and label for each face\n",
        "        for (top, right, bottom, left) in face_locations:\n",
        "            cv2.rectangle(unknown_img, (left, top), (right, bottom), (0, 255, 0), 2)\n",
        "            # Remove the .jpg extension from the name\n",
        "            name_without_extension = os.path.splitext(known_name)[0]\n",
        "            cv2.putText(unknown_img, name_without_extension, (left + 6, bottom - 6), cv2.FONT_HERSHEY_DUPLEX, 0.5, (255, 255, 255), 1)\n",
        "\n",
        "        # Resize images to the same height for consistent stacking\n",
        "        height = max(known_img.shape[0], unknown_img.shape[0])\n",
        "        unknown_img = cv2.resize(unknown_img, (int(unknown_img.shape[1] * height / unknown_img.shape[0]), height))\n",
        "        known_img = cv2.resize(known_img, (int(known_img.shape[1] * height / known_img.shape[0]), height))\n",
        "\n",
        "        # Create a new image with both images stacked horizontally\n",
        "        total_width = unknown_img.shape[1] + known_img.shape[1]\n",
        "        combined_image = np.zeros((height, total_width, 3), dtype=np.uint8)\n",
        "\n",
        "        # Paste known image on the left and unknown image on the right\n",
        "        combined_image[:known_img.shape[0], :known_img.shape[1]] = known_img\n",
        "        combined_image[:unknown_img.shape[0], known_img.shape[1]:] = unknown_img\n",
        "\n",
        "        # Add the combined image to the list of stacked images\n",
        "        stacked_images.append(combined_image)\n",
        "\n",
        "    # Combine all pairs vertically into one single image\n",
        "    if stacked_images:\n",
        "        total_height = sum(image.shape[0] for image in stacked_images)\n",
        "        max_width = max(image.shape[1] for image in stacked_images)\n",
        "        final_image = np.zeros((total_height, max_width, 3), dtype=np.uint8)\n",
        "\n",
        "        # Paste each combined image below the previous one\n",
        "        y_offset = 0\n",
        "        for img in stacked_images:\n",
        "            final_image[y_offset:y_offset + img.shape[0], :img.shape[1]] = img\n",
        "            y_offset += img.shape[0]\n",
        "\n",
        "        # Display the final image with all matches stacked vertically\n",
        "        cv2_imshow(final_image)\n",
        "\n",
        "if __name__ == \"__main__\":\n",
        "    known_folder = '/content/Drive/MyDrive/Faces/known'\n",
        "    unknown_folder = '/content/Drive/MyDrive/Faces/unknown'\n",
        "\n",
        "    matches, unmatched_unknowns, missing_knowns = compare_faces(known_folder, unknown_folder)\n",
        "\n",
        "    if matches:\n",
        "        stack_images_vertically_with_boxes(known_folder, unknown_folder, matches)\n",
        "\n",
        "    # Display the results for unmatched and missing faces\n",
        "    if unmatched_unknowns:\n",
        "        print(\"The following are unidentified images:\")\n",
        "        for img in unmatched_unknowns:\n",
        "            print(img)\n",
        "\n",
        "    if missing_knowns:\n",
        "        print(\"\\nThe following people are missing:\")\n",
        "        for person in missing_knowns:\n",
        "            print(person)"
      ],
      "metadata": {
        "id": "MnVPvqprkO4_"
      },
      "execution_count": null,
      "outputs": []
    }
  ]
}